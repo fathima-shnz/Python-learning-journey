{
 "cells": [
  {
   "cell_type": "code",
   "execution_count": 6,
   "id": "56dec700-2768-4c0d-8d04-9c1b072a2402",
   "metadata": {},
   "outputs": [
    {
     "name": "stdout",
     "output_type": "stream",
     "text": [
      "Hello\n"
     ]
    },
    {
     "name": "stdin",
     "output_type": "stream",
     "text": [
      "Enter your number  2\n"
     ]
    }
   ],
   "source": [
    "print('Hello')\n",
    "number = float(input('Enter your number '))\n",
    "\n"
   ]
  },
  {
   "cell_type": "code",
   "execution_count": 9,
   "id": "52b28fa0-6e2f-4a99-afa8-f63edb006cb5",
   "metadata": {},
   "outputs": [],
   "source": [
    "def even_or_odd(number):\n",
    "    if number % 2 == 0:\n",
    "        print('The number is even')\n",
    "    else:\n",
    "        print('The number is odd')"
   ]
  },
  {
   "cell_type": "code",
   "execution_count": 10,
   "id": "3a49fbba-13e3-481e-ab61-fe6de7221a46",
   "metadata": {},
   "outputs": [
    {
     "name": "stdout",
     "output_type": "stream",
     "text": [
      "The number is even\n",
      "The number is odd\n",
      "The number is even\n"
     ]
    }
   ],
   "source": [
    "#Testing output\n",
    "even_or_odd(4)\n",
    "even_or_odd(438.5)\n",
    "even_or_odd(69324)"
   ]
  },
  {
   "cell_type": "code",
   "execution_count": null,
   "id": "d7367f98-9208-4c53-b28b-392ec8c5a19d",
   "metadata": {},
   "outputs": [],
   "source": []
  }
 ],
 "metadata": {
  "kernelspec": {
   "display_name": "Python 3 (ipykernel)",
   "language": "python",
   "name": "python3"
  },
  "language_info": {
   "codemirror_mode": {
    "name": "ipython",
    "version": 3
   },
   "file_extension": ".py",
   "mimetype": "text/x-python",
   "name": "python",
   "nbconvert_exporter": "python",
   "pygments_lexer": "ipython3",
   "version": "3.13.2"
  }
 },
 "nbformat": 4,
 "nbformat_minor": 5
}

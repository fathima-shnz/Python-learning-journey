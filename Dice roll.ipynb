{
 "cells": [
  {
   "cell_type": "raw",
   "id": "c4bed348-d4ad-4fbe-b9b6-df4db2b1e1fd",
   "metadata": {},
   "source": [
    "print(\"Press enter to roll dice\")"
   ]
  },
  {
   "cell_type": "code",
   "execution_count": 1,
   "id": "ba7cac37-a9c2-4039-a967-491a91779d2e",
   "metadata": {},
   "outputs": [],
   "source": [
    "import random"
   ]
  },
  {
   "cell_type": "code",
   "execution_count": 2,
   "id": "87418914-249a-4cac-a35f-05d3af54ce90",
   "metadata": {},
   "outputs": [],
   "source": [
    "class Dice():\n",
    "    def roll(self):\n",
    "        first = random.randint(1,6)\n",
    "        second = random.randint(1,6)\n",
    "        return first, second\n",
    "        "
   ]
  },
  {
   "cell_type": "code",
   "execution_count": 3,
   "id": "b24fdb9e-3bd0-4ee5-8d42-5ef67701e41c",
   "metadata": {},
   "outputs": [],
   "source": [
    "dice = Dice()"
   ]
  },
  {
   "cell_type": "code",
   "execution_count": 4,
   "id": "8ff4976d-9eea-4a59-abd6-911bf76e4bb6",
   "metadata": {},
   "outputs": [
    {
     "name": "stdout",
     "output_type": "stream",
     "text": [
      "(4, 2)\n"
     ]
    }
   ],
   "source": [
    "print(dice.roll())"
   ]
  },
  {
   "cell_type": "code",
   "execution_count": null,
   "id": "460d4fbe-3ff8-4cf6-8e0a-c90a4be905e2",
   "metadata": {},
   "outputs": [],
   "source": []
  }
 ],
 "metadata": {
  "kernelspec": {
   "display_name": "Python 3 (ipykernel)",
   "language": "python",
   "name": "python3"
  },
  "language_info": {
   "codemirror_mode": {
    "name": "ipython",
    "version": 3
   },
   "file_extension": ".py",
   "mimetype": "text/x-python",
   "name": "python",
   "nbconvert_exporter": "python",
   "pygments_lexer": "ipython3",
   "version": "3.13.2"
  }
 },
 "nbformat": 4,
 "nbformat_minor": 5
}
